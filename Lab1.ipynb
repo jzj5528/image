{
  "nbformat": 4,
  "nbformat_minor": 0,
  "metadata": {
    "colab": {
      "name": "Lab1.ipynb",
      "provenance": [],
      "collapsed_sections": [],
      "authorship_tag": "ABX9TyMc806MjxO0RYZYaKe43xA6",
      "include_colab_link": true
    },
    "kernelspec": {
      "name": "python3",
      "display_name": "Python 3"
    }
  },
  "cells": [
    {
      "cell_type": "markdown",
      "metadata": {
        "id": "view-in-github",
        "colab_type": "text"
      },
      "source": [
        "<a href=\"https://colab.research.google.com/github/jzj5528/image/blob/master/Lab1.ipynb\" target=\"_parent\"><img src=\"https://colab.research.google.com/assets/colab-badge.svg\" alt=\"Open In Colab\"/></a>"
      ]
    },
    {
      "cell_type": "markdown",
      "metadata": {
        "id": "mXzJhAWs9cp9",
        "colab_type": "text"
      },
      "source": [
        "##Do you like using Jupyter Notebooks?"
      ]
    },
    {
      "cell_type": "markdown",
      "metadata": {
        "id": "fAhld0CC9oq7",
        "colab_type": "text"
      },
      "source": [
        "Yes I do like using jupyter notebook. It is very comfortable to use."
      ]
    },
    {
      "cell_type": "markdown",
      "metadata": {
        "id": "Pfx4AZY_-1bY",
        "colab_type": "text"
      },
      "source": [
        "##What do you want to learn more about in Jupyter Notebooks"
      ]
    },
    {
      "cell_type": "markdown",
      "metadata": {
        "id": "acpVIRL0_ONf",
        "colab_type": "text"
      },
      "source": [
        "I want to learn how to apply data science to Jupyter Notebooks. I want to learn how helpful Jupyter Notebooks is for coding."
      ]
    },
    {
      "cell_type": "markdown",
      "metadata": {
        "id": "HAfOqjzh-8GM",
        "colab_type": "text"
      },
      "source": [
        "![Ben Simmons](https://raw.githubusercontent.com/jzj5528/image/master/images/ben.jpg)"
      ]
    }
  ]
}