{
  "nbformat": 4,
  "nbformat_minor": 0,
  "metadata": {
    "colab": {
      "name": "Lab2.ipynb",
      "provenance": [],
      "collapsed_sections": [],
      "authorship_tag": "ABX9TyOuYBoU7S9b7BL9/BDloeNw",
      "include_colab_link": true
    },
    "kernelspec": {
      "name": "python3",
      "display_name": "Python 3"
    }
  },
  "cells": [
    {
      "cell_type": "markdown",
      "metadata": {
        "id": "view-in-github",
        "colab_type": "text"
      },
      "source": [
        "<a href=\"https://colab.research.google.com/github/jzj5528/image/blob/master/Lab2.ipynb\" target=\"_parent\"><img src=\"https://colab.research.google.com/assets/colab-badge.svg\" alt=\"Open In Colab\"/></a>"
      ]
    },
    {
      "cell_type": "code",
      "metadata": {
        "id": "dG7OElsPCd1L"
      },
      "source": [
        ""
      ],
      "execution_count": null,
      "outputs": []
    },
    {
      "cell_type": "markdown",
      "metadata": {
        "id": "KVVobny_-YTW"
      },
      "source": [
        "For this project, it was making an entity relationship on a petshop that I’m working at. The 6 entities that I made were pets, enclosure, employees, food, customers and the food for purchase. In this entity relationship, I was trying to display the primary keys like the Pet ID number, enclosure number, employees, serial number, and the  loyalty number. I also connected the boxes based on their relationship. Like the pets are bought by the customers or the pets eat the food. In several of the boxes I also had foreign keys being used and I also connected it to other boxes.\n"
      ]
    },
    {
      "cell_type": "markdown",
      "metadata": {
        "id": "0TCK1zg2-aM-"
      },
      "source": [
        "![petshop2.png]"
      ]
    }
  ]
}